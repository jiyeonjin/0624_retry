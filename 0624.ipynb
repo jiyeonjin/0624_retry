{
  "nbformat": 4,
  "nbformat_minor": 0,
  "metadata": {
    "colab": {
      "provenance": [],
      "authorship_tag": "ABX9TyOuv/QjrWk6PQHeOEIzR/K7",
      "include_colab_link": true
    },
    "kernelspec": {
      "name": "python3",
      "display_name": "Python 3"
    },
    "language_info": {
      "name": "python"
    }
  },
  "cells": [
    {
      "cell_type": "markdown",
      "metadata": {
        "id": "view-in-github",
        "colab_type": "text"
      },
      "source": [
        "<a href=\"https://colab.research.google.com/github/jiyeonjin/0624_retry/blob/main/0624.ipynb\" target=\"_parent\"><img src=\"https://colab.research.google.com/assets/colab-badge.svg\" alt=\"Open In Colab\"/></a>"
      ]
    },
    {
      "cell_type": "code",
      "execution_count": 1,
      "metadata": {
        "colab": {
          "base_uri": "https://localhost:8080/"
        },
        "id": "tGh-O9nVTtvQ",
        "outputId": "ce988708-418b-4ef7-a124-a1c386a8cf22"
      },
      "outputs": [
        {
          "output_type": "stream",
          "name": "stdout",
          "text": [
            "Hello World!\n",
            "Hello, World!\n"
          ]
        }
      ],
      "source": [
        "#This is a comment\n",
        "print(\"Hello World!\")\n",
        "\n",
        "print(\"Hello, World!\")#This is a comment"
      ]
    },
    {
      "cell_type": "code",
      "source": [
        "x=5\n",
        "y=\"John\"\n",
        "print(x)\n",
        "print(y)\n",
        "\n",
        "x=4\n",
        "x=\"Sally\"\n",
        "print(x)\n",
        "\n",
        "x=str(3)\n",
        "y=int(3)\n",
        "z=float(3)\n",
        "\n",
        "x=5\n",
        "y=\"John\"\n",
        "print(type(x))\n",
        "print(type(y))\n",
        "\n",
        "x=\"John\"\n",
        "# is the same as\n",
        "x='John'"
      ],
      "metadata": {
        "colab": {
          "base_uri": "https://localhost:8080/"
        },
        "id": "kMS3iUCIpYLp",
        "outputId": "3ad40af3-e8bd-4dc5-8682-9b57237504aa"
      },
      "execution_count": 3,
      "outputs": [
        {
          "output_type": "stream",
          "name": "stdout",
          "text": [
            "5\n",
            "John\n",
            "Sally\n",
            "<class 'int'>\n",
            "<class 'str'>\n"
          ]
        }
      ]
    },
    {
      "cell_type": "code",
      "source": [
        "myvar=\"John\"\n",
        "my_yar=\"John\"\n",
        "_my_yar=\"John\"\n",
        "myVar=\"John\"\n",
        "MYYAR=\"John\"\n",
        "myvar2=\"John\"\n",
        "\n",
        "myVarialbleName=\"John\"\n",
        "my_variable_name=\"John\""
      ],
      "metadata": {
        "id": "8lCbXfRXpY35"
      },
      "execution_count": 11,
      "outputs": []
    },
    {
      "cell_type": "code",
      "source": [
        "x,y,z=\"Orange\",\"banana\",\"cherry\"\n",
        "print(x)\n",
        "print(y)\n",
        "print(z)\n",
        "\n",
        "# is the same as\n",
        "\n",
        "x=y=z=\"orange\"\n",
        "print(x)\n",
        "print(y)\n",
        "print(z)\n",
        "\n",
        "fruits=[\"apple\",\"banana\",\"cherry\"]\n",
        "x,y,z=fruits\n",
        "print(x)\n",
        "print(y)\n",
        "print(z)"
      ],
      "metadata": {
        "colab": {
          "base_uri": "https://localhost:8080/"
        },
        "id": "jNaTiLfYpY1n",
        "outputId": "c56a6e40-ccdb-49e4-d375-72fde4b10cb3"
      },
      "execution_count": 7,
      "outputs": [
        {
          "output_type": "stream",
          "name": "stdout",
          "text": [
            "Orange\n",
            "banana\n",
            "cherry\n",
            "orange\n",
            "orange\n",
            "orange\n",
            "apple\n",
            "banana\n",
            "cherry\n"
          ]
        }
      ]
    },
    {
      "cell_type": "code",
      "source": [
        "x=\"python is awesome\"\n",
        "print(x)\n",
        "\n",
        "x=\"Python\"\n",
        "y=\"is\"\n",
        "z=\"awesome\"\n",
        "print(x,y,z)\n",
        "\n",
        "x=\"python\"\n",
        "y=\"is\"\n",
        "z=\"awesome\"\n",
        "print(x+y+z)\n",
        "\n",
        "x=5\n",
        "y=10\n",
        "print(x+y)\n",
        "\n",
        "x=5\n",
        "y=\"John\"\n",
        "print(x,y)"
      ],
      "metadata": {
        "colab": {
          "base_uri": "https://localhost:8080/"
        },
        "id": "oxlAP1impYzN",
        "outputId": "79cd6204-7c34-4a60-e797-dce89eb3bf69"
      },
      "execution_count": 13,
      "outputs": [
        {
          "output_type": "stream",
          "name": "stdout",
          "text": [
            "python is awesome\n",
            "Python is awesome\n",
            "pythonisawesome\n",
            "15\n",
            "5 John\n"
          ]
        }
      ]
    },
    {
      "cell_type": "code",
      "source": [
        "x=\"awesome\"\n",
        "\n",
        "def myfunc():\n",
        "  print(\"Python is\"+x)\n",
        "\n",
        "myfunc()"
      ],
      "metadata": {
        "colab": {
          "base_uri": "https://localhost:8080/"
        },
        "id": "YqqqDMfhpYwu",
        "outputId": "8d3902f6-75da-453f-f187-51cf9e8c0b0d"
      },
      "execution_count": 15,
      "outputs": [
        {
          "output_type": "stream",
          "name": "stdout",
          "text": [
            "Python isawesome\n"
          ]
        }
      ]
    },
    {
      "cell_type": "code",
      "source": [
        "x=\"awesome\"\n",
        "\n",
        "def myfunc():\n",
        "  x=\"fantastic\"\n",
        "  print(\"Python is\"+x)\n",
        "\n",
        "myfunc()\n",
        "\n",
        "print(\"Python is\"+x)"
      ],
      "metadata": {
        "colab": {
          "base_uri": "https://localhost:8080/"
        },
        "id": "kLJGz8AzpYuJ",
        "outputId": "349d3e66-6dba-43d4-94b9-15564ef3570d"
      },
      "execution_count": 14,
      "outputs": [
        {
          "output_type": "stream",
          "name": "stdout",
          "text": [
            "Python isfantastic\n",
            "Python isawesome\n"
          ]
        }
      ]
    },
    {
      "cell_type": "code",
      "source": [
        "def myfunc():\n",
        "  global x\n",
        "  x=\"fantastic\"\n",
        "\n",
        "myfunc()\n",
        "\n",
        "print(\"Python is\"+x)"
      ],
      "metadata": {
        "colab": {
          "base_uri": "https://localhost:8080/"
        },
        "id": "0lPnHa0MpYgR",
        "outputId": "05953ee0-03c2-496f-f1d1-b4020a8f72d3"
      },
      "execution_count": 16,
      "outputs": [
        {
          "output_type": "stream",
          "name": "stdout",
          "text": [
            "Python isfantastic\n"
          ]
        }
      ]
    },
    {
      "cell_type": "code",
      "source": [
        "x=\"awesome\"\n",
        "\n",
        "def myfunc():\n",
        "  global x\n",
        "  x=\"fantastic\"\n",
        "\n",
        "myfunc()\n",
        "\n",
        "print(\"Python is\"+x)"
      ],
      "metadata": {
        "colab": {
          "base_uri": "https://localhost:8080/"
        },
        "id": "7wGKkQOpsflv",
        "outputId": "db43e5d1-3597-40fb-d423-61667214900d"
      },
      "execution_count": 17,
      "outputs": [
        {
          "output_type": "stream",
          "name": "stdout",
          "text": [
            "Python isfantastic\n"
          ]
        }
      ]
    },
    {
      "cell_type": "code",
      "source": [
        "x=5\n",
        "print(type(x))\n",
        "\n",
        "x=str(\"Hello World\")\n",
        "\n",
        "x=int(20)\n",
        "\n",
        "x=float(20.5)\n",
        "\n",
        "x=complex(1j)"
      ],
      "metadata": {
        "colab": {
          "base_uri": "https://localhost:8080/"
        },
        "id": "VfJsnWrfsfj8",
        "outputId": "b85b61c7-a2ac-4a41-ad69-bcb4907ae998"
      },
      "execution_count": 18,
      "outputs": [
        {
          "output_type": "stream",
          "name": "stdout",
          "text": [
            "<class 'int'>\n"
          ]
        }
      ]
    },
    {
      "cell_type": "code",
      "source": [
        "x=1\n",
        "y=2.8\n",
        "z=1j\n",
        "\n",
        "print(type(x))\n",
        "print(type(y))\n",
        "print(type(z))"
      ],
      "metadata": {
        "colab": {
          "base_uri": "https://localhost:8080/"
        },
        "id": "vzmcGgbhsfh2",
        "outputId": "65a20d7e-8b1f-4e2e-a624-f428568f7b1c"
      },
      "execution_count": 19,
      "outputs": [
        {
          "output_type": "stream",
          "name": "stdout",
          "text": [
            "<class 'int'>\n",
            "<class 'float'>\n",
            "<class 'complex'>\n"
          ]
        }
      ]
    },
    {
      "cell_type": "code",
      "source": [
        "x=1\n",
        "y=564561531265878\n",
        "z=-4654651\n",
        "\n",
        "print(type(x))\n",
        "print(type(y))\n",
        "print(type(z))"
      ],
      "metadata": {
        "colab": {
          "base_uri": "https://localhost:8080/"
        },
        "id": "RK0fUdpxsffb",
        "outputId": "db9c3a91-102f-40fc-ea8c-1e62f3d5b259"
      },
      "execution_count": 20,
      "outputs": [
        {
          "output_type": "stream",
          "name": "stdout",
          "text": [
            "<class 'int'>\n",
            "<class 'int'>\n",
            "<class 'int'>\n"
          ]
        }
      ]
    },
    {
      "cell_type": "code",
      "source": [
        "x=1.10\n",
        "y=1.0\n",
        "z=-35.59\n",
        "\n",
        "print(type(x))\n",
        "print(type(y))\n",
        "print(type(z))"
      ],
      "metadata": {
        "colab": {
          "base_uri": "https://localhost:8080/"
        },
        "id": "VooFKMHHsfcz",
        "outputId": "7f0797e3-dbb6-4970-fcc4-4cf86b93ed4f"
      },
      "execution_count": 21,
      "outputs": [
        {
          "output_type": "stream",
          "name": "stdout",
          "text": [
            "<class 'float'>\n",
            "<class 'float'>\n",
            "<class 'float'>\n"
          ]
        }
      ]
    },
    {
      "cell_type": "code",
      "source": [
        "x=35e3\n",
        "y=12E4\n",
        "z=-87.7e100\n",
        "\n",
        "print(type(x))\n",
        "print(type(y))\n",
        "print(type(z))"
      ],
      "metadata": {
        "colab": {
          "base_uri": "https://localhost:8080/"
        },
        "id": "0OVNE88qsfWc",
        "outputId": "7f12c526-f454-41ea-f417-48a15b52417a"
      },
      "execution_count": 22,
      "outputs": [
        {
          "output_type": "stream",
          "name": "stdout",
          "text": [
            "<class 'float'>\n",
            "<class 'float'>\n",
            "<class 'float'>\n"
          ]
        }
      ]
    },
    {
      "cell_type": "code",
      "source": [
        "x=3+5j\n",
        "y=5j\n",
        "z=-5j\n",
        "\n",
        "print(type(x))\n",
        "print(type(y))\n",
        "print(type(z))"
      ],
      "metadata": {
        "colab": {
          "base_uri": "https://localhost:8080/"
        },
        "id": "rFeuIoZ4usFf",
        "outputId": "5ef08723-170b-44d5-91d0-70cd482dc96a"
      },
      "execution_count": 23,
      "outputs": [
        {
          "output_type": "stream",
          "name": "stdout",
          "text": [
            "<class 'complex'>\n",
            "<class 'complex'>\n",
            "<class 'complex'>\n"
          ]
        }
      ]
    },
    {
      "cell_type": "code",
      "source": [
        "x=1\n",
        "y=2.8\n",
        "z=1j\n",
        "\n",
        "a=float(x)\n",
        "\n",
        "b=int(y)\n",
        "\n",
        "c=complex(x)\n",
        "\n",
        "print(a)\n",
        "print(b)\n",
        "print(c)\n",
        "\n",
        "print(type(a))\n",
        "print(type(b))\n",
        "print(type(c))"
      ],
      "metadata": {
        "colab": {
          "base_uri": "https://localhost:8080/"
        },
        "id": "0jyO8PsbusDY",
        "outputId": "5a3f3aa7-c910-4050-ffa1-ba5c70bff27f"
      },
      "execution_count": 24,
      "outputs": [
        {
          "output_type": "stream",
          "name": "stdout",
          "text": [
            "1.0\n",
            "2\n",
            "(1+0j)\n",
            "<class 'float'>\n",
            "<class 'int'>\n",
            "<class 'complex'>\n"
          ]
        }
      ]
    },
    {
      "cell_type": "code",
      "source": [
        "import random\n",
        "\n",
        "print(random.randrange(1,10))"
      ],
      "metadata": {
        "colab": {
          "base_uri": "https://localhost:8080/"
        },
        "id": "MZtqnE_qusBg",
        "outputId": "e8a609b6-f361-48ba-c29b-c17d32ca6faa"
      },
      "execution_count": 25,
      "outputs": [
        {
          "output_type": "stream",
          "name": "stdout",
          "text": [
            "4\n"
          ]
        }
      ]
    },
    {
      "cell_type": "code",
      "source": [
        "x=int(1)\n",
        "y=int(2.8)\n",
        "z=int(\"3\")"
      ],
      "metadata": {
        "id": "ssTkayRuur_P"
      },
      "execution_count": 38,
      "outputs": []
    },
    {
      "cell_type": "code",
      "source": [
        "x=float(1)\n",
        "y=float(2.8)\n",
        "z=float(\"3\")\n",
        "w=float(\"4.2\")"
      ],
      "metadata": {
        "id": "qPTLGRtEur9A"
      },
      "execution_count": 35,
      "outputs": []
    },
    {
      "cell_type": "markdown",
      "source": [
        "남자 5명의 키를 더하고 평균을 구하는 전체 Python 코드이다."
      ],
      "metadata": {
        "id": "uE3ORsUxzjQg"
      }
    },
    {
      "cell_type": "code",
      "source": [
        "man_count = 5\n",
        "\n",
        "high1 = 170\n",
        "high2 = 180\n",
        "high3 = 150\n",
        "high4 = 164\n",
        "high5 = 159\n",
        "\n",
        "sum = high1 + high2 + high3 + high4 + high5\n",
        "average = sum / man_count\n",
        "mean=sum/5\n",
        "\n",
        "if high1 >= 160:\n",
        "    print(\"1번 남자: 큰 키\")\n",
        "else:\n",
        "    print(\"1번 남자: 작은 키\")\n",
        "\n",
        "if high2 >= 160:\n",
        "    print(\"2번 남자: 큰 키\")\n",
        "else:\n",
        "    print(\"2번 남자: 작은 키\")\n",
        "\n",
        "print(\"5명 남자의 키의 합:\", sum)\n",
        "print(\"5명 남자의 키의 평균:\", average)\n",
        "\n",
        "# 다른 사람들의 코드\n",
        "\n",
        "print(\"키의 합계:\",sum)\n",
        "print(\"평균 키\",average)\n",
        "print(\"다섯 명의 평균키:\",mean)"
      ],
      "metadata": {
        "colab": {
          "base_uri": "https://localhost:8080/"
        },
        "id": "izoGAajfyHIG",
        "outputId": "a03a35db-6ceb-4b65-a852-b22ccf87b516"
      },
      "execution_count": 43,
      "outputs": [
        {
          "output_type": "stream",
          "name": "stdout",
          "text": [
            "1번 남자: 큰 키\n",
            "2번 남자: 큰 키\n",
            "5명 남자의 키의 합: 823\n",
            "5명 남자의 키의 평균: 164.6\n",
            "키의 합계: 823\n",
            "평균 키 164.6\n",
            "다섯 명의 평균키: 164.6\n"
          ]
        }
      ]
    },
    {
      "cell_type": "markdown",
      "source": [
        "자율주행 신호등 색상 인식 if문 샘플 코드"
      ],
      "metadata": {
        "id": "TDuT8Irh1-S9"
      }
    },
    {
      "cell_type": "code",
      "source": [
        "# 카메라로 인식한 신호등 색상\n",
        "traffic_light = \"red\"\n",
        "\n",
        "if traffic_light == \"red\":\n",
        "    print(\"빨간불 → 정지\")\n",
        "\n",
        "if traffic_light == \"yellow\":\n",
        "    print(\"노란불 → 감속 준비\")\n",
        "\n",
        "if traffic_light == \"green\":\n",
        "    print(\"초록불 → 출발\")"
      ],
      "metadata": {
        "colab": {
          "base_uri": "https://localhost:8080/"
        },
        "id": "iJPYKG9O2NBv",
        "outputId": "74be2487-7251-450a-cb64-322d1147a645"
      },
      "execution_count": 45,
      "outputs": [
        {
          "output_type": "stream",
          "name": "stdout",
          "text": [
            "빨간불 → 정지\n"
          ]
        }
      ]
    },
    {
      "cell_type": "markdown",
      "source": [
        "자율주행 차선 이탈 여부 판단 if문 샘플 코드"
      ],
      "metadata": {
        "id": "bVxxALZ320wH"
      }
    },
    {
      "cell_type": "code",
      "source": [
        "# 차선 중앙 기준 차량 위치 (단위: m, 0이면 중앙)\n",
        "lane_position = 0.8  # +면 오른쪽 치우침, -면 왼쪽\n",
        "\n",
        "if lane_position > 0.5:\n",
        "    print(\"차량이 오른쪽으로 치우침 → 왼쪽으로 조향 보정\")\n",
        "\n",
        "if lane_position < -0.5:\n",
        "    print(\"차량이 왼쪽으로 치우침 → 오른쪽으로 조향 보정\")\n",
        "\n",
        "if -0.5 <= lane_position <= 0.5:\n",
        "    print(\"차선 중앙 유지 중 → 유지\")"
      ],
      "metadata": {
        "colab": {
          "base_uri": "https://localhost:8080/"
        },
        "id": "BbxscoNv25dK",
        "outputId": "06211f57-e4ce-47cc-d392-3780e2136d14"
      },
      "execution_count": 46,
      "outputs": [
        {
          "output_type": "stream",
          "name": "stdout",
          "text": [
            "차량이 오른쪽으로 치우침 → 왼쪽으로 조향 보정\n"
          ]
        }
      ]
    },
    {
      "cell_type": "markdown",
      "source": [
        "자율주행 장애물 감지 기반 제동 if문 샘플 코드"
      ],
      "metadata": {
        "id": "fj8y6qtU29WN"
      }
    },
    {
      "cell_type": "code",
      "source": [
        "# 앞에 장애물까지의 거리 (단위: 미터)\n",
        "distance_to_obstacle = 5\n",
        "\n",
        "# 현재 차량 속도 (단위: km/h)\n",
        "speed = 40\n",
        "\n",
        "# 긴급 정지 거리 기준 (단위: 미터)\n",
        "brake_threshold = 10\n",
        "\n",
        "if distance_to_obstacle < brake_threshold:\n",
        "    print(\"장애물과 너무 가까움! → 긴급 제동\")\n",
        "\n",
        "if distance_to_obstacle >= brake_threshold:\n",
        "    print(\"안전 거리 유지 중 → 계속 주행\")"
      ],
      "metadata": {
        "colab": {
          "base_uri": "https://localhost:8080/"
        },
        "id": "yMvzVJ413C-9",
        "outputId": "755a4705-870e-4070-da48-5840feb05d6c"
      },
      "execution_count": 47,
      "outputs": [
        {
          "output_type": "stream",
          "name": "stdout",
          "text": [
            "장애물과 너무 가까움! → 긴급 제동\n"
          ]
        }
      ]
    },
    {
      "cell_type": "markdown",
      "source": [
        "자율주행 날씨에 따른 센서 사용 판단 if문 샘플 코드"
      ],
      "metadata": {
        "id": "WaquIBF43Iol"
      }
    },
    {
      "cell_type": "code",
      "source": [
        "# 현재 날씨\n",
        "weather = \"rain\"\n",
        "\n",
        "if weather == \"rain\":\n",
        "    print(\"비 오는 중 → 라이다 센서 감도 높임\")\n",
        "\n",
        "if weather == \"fog\":\n",
        "    print(\"안개 낌 → 레이더 센서 우선 사용\")\n",
        "\n",
        "if weather == \"clear\":\n",
        "    print(\"맑음 → 모든 센서 정상 동작\")"
      ],
      "metadata": {
        "colab": {
          "base_uri": "https://localhost:8080/"
        },
        "id": "-qxk98Jz4Nh6",
        "outputId": "d548b227-3f33-44e7-b9c6-d99365841478"
      },
      "execution_count": 48,
      "outputs": [
        {
          "output_type": "stream",
          "name": "stdout",
          "text": [
            "비 오는 중 → 라이다 센서 감도 높임\n"
          ]
        }
      ]
    },
    {
      "cell_type": "markdown",
      "source": [
        "보행자 감지 및 정지 판단 if문 샘플 코드"
      ],
      "metadata": {
        "id": "mEO5HmRo4Qa6"
      }
    },
    {
      "cell_type": "code",
      "source": [
        "# 센서로 보행자 감지 여부\n",
        "pedestrian_detected = True\n",
        "\n",
        "# 차량 속도 (단위: km/h)\n",
        "speed = 30\n",
        "\n",
        "if pedestrian_detected:\n",
        "    print(\"보행자 감지됨 → 차량 정지\")\n",
        "\n",
        "if not pedestrian_detected:\n",
        "    print(\"보행자 없음 → 계속 주행\")"
      ],
      "metadata": {
        "colab": {
          "base_uri": "https://localhost:8080/"
        },
        "id": "uQrBb0c84U_S",
        "outputId": "0864f75a-be80-4668-b173-a0d33f4ad6ab"
      },
      "execution_count": 49,
      "outputs": [
        {
          "output_type": "stream",
          "name": "stdout",
          "text": [
            "보행자 감지됨 → 차량 정지\n"
          ]
        }
      ]
    }
  ]
}