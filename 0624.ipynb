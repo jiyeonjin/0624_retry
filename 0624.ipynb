{
  "nbformat": 4,
  "nbformat_minor": 0,
  "metadata": {
    "colab": {
      "provenance": [],
      "authorship_tag": "ABX9TyNTwwBpLaXNXSSe+FxSs1+C",
      "include_colab_link": true
    },
    "kernelspec": {
      "name": "python3",
      "display_name": "Python 3"
    },
    "language_info": {
      "name": "python"
    }
  },
  "cells": [
    {
      "cell_type": "markdown",
      "metadata": {
        "id": "view-in-github",
        "colab_type": "text"
      },
      "source": [
        "<a href=\"https://colab.research.google.com/github/jiyeonjin/0624_retry/blob/main/0624.ipynb\" target=\"_parent\"><img src=\"https://colab.research.google.com/assets/colab-badge.svg\" alt=\"Open In Colab\"/></a>"
      ]
    },
    {
      "cell_type": "code",
      "execution_count": null,
      "metadata": {
        "id": "tGh-O9nVTtvQ"
      },
      "outputs": [],
      "source": [
        "#This is a comment\n",
        "print(\"Hello World!\")\n",
        "\n",
        "print(\"Hello, World!\")#This is a comment"
      ]
    },
    {
      "cell_type": "code",
      "source": [
        "x=5\n",
        "y=\"John\"\n",
        "print(x)\n",
        "print(y)\n",
        "\n",
        "x=4\n",
        "x=\"Sally\"\n",
        "print(x)\n",
        "\n",
        "x=str(3)\n",
        "y=int(3)\n",
        "z=float(3)\n",
        "\n",
        "x=5\n",
        "y=\"John\"\n",
        "print(type(x))\n",
        "print(type(y))\n",
        "\n",
        "x=\"John\"\n",
        "# is the same as\n",
        "x='John'"
      ],
      "metadata": {
        "id": "kMS3iUCIpYLp"
      },
      "execution_count": null,
      "outputs": []
    },
    {
      "cell_type": "code",
      "source": [
        "myvar=\"John\"\n",
        "my_yar=\"John\"\n",
        "_my_yar=\"John\"\n",
        "myVar=\"John\"\n",
        "MYYAR=\"John\"\n",
        "myvar2=\"John\"\n",
        "\n",
        "myVarialbleName=\"John\"\n",
        "my_variable_name=\"John\""
      ],
      "metadata": {
        "id": "8lCbXfRXpY35"
      },
      "execution_count": null,
      "outputs": []
    },
    {
      "cell_type": "code",
      "source": [
        "x,y,z=\"Orange\",\"banana\",\"cherry\"\n",
        "print(x)\n",
        "print(y)\n",
        "print(z)\n",
        "\n",
        "# is the same as\n",
        "\n",
        "x=y=z=\"orange\"\n",
        "print(x)\n",
        "print(y)\n",
        "print(z)\n",
        "\n",
        "fruits=[\"apple\",\"banana\",\"cherry\"]\n",
        "x,y,z=fruits\n",
        "print(x)\n",
        "print(y)\n",
        "print(z)"
      ],
      "metadata": {
        "id": "jNaTiLfYpY1n"
      },
      "execution_count": null,
      "outputs": []
    },
    {
      "cell_type": "code",
      "source": [
        "x=\"python is awesome\"\n",
        "print(x)\n",
        "\n",
        "x=\"Python\"\n",
        "y=\"is\"\n",
        "z=\"awesome\"\n",
        "print(x,y,z)\n",
        "\n",
        "x=\"python\"\n",
        "y=\"is\"\n",
        "z=\"awesome\"\n",
        "print(x+y+z)\n",
        "\n",
        "x=5\n",
        "y=10\n",
        "print(x+y)\n",
        "\n"
      ],
      "metadata": {
        "id": "oxlAP1impYzN"
      },
      "execution_count": null,
      "outputs": []
    },
    {
      "cell_type": "code",
      "source": [
        "\n"
      ],
      "metadata": {
        "id": "YqqqDMfhpYwu"
      },
      "execution_count": null,
      "outputs": []
    },
    {
      "cell_type": "code",
      "source": [],
      "metadata": {
        "id": "kLJGz8AzpYuJ"
      },
      "execution_count": null,
      "outputs": []
    },
    {
      "cell_type": "code",
      "source": [],
      "metadata": {
        "id": "0lPnHa0MpYgR"
      },
      "execution_count": null,
      "outputs": []
    }
  ]
}